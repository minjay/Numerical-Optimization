{
 "cells": [
  {
   "cell_type": "code",
   "execution_count": 1,
   "metadata": {
    "collapsed": true
   },
   "outputs": [],
   "source": [
    "using DataFrames\n",
    "# read data\n",
    "dt = readtable(\"binary.csv\");"
   ]
  },
  {
   "cell_type": "code",
   "execution_count": 2,
   "metadata": {
    "collapsed": false
   },
   "outputs": [
    {
     "data": {
      "text/html": [
       "<table class=\"data-frame\"><tr><th></th><th>admit</th><th>gre</th><th>gpa</th><th>rank</th></tr><tr><th>1</th><td>0</td><td>380</td><td>3.61</td><td>3</td></tr><tr><th>2</th><td>1</td><td>660</td><td>3.67</td><td>3</td></tr><tr><th>3</th><td>1</td><td>800</td><td>4.0</td><td>1</td></tr><tr><th>4</th><td>1</td><td>640</td><td>3.19</td><td>4</td></tr><tr><th>5</th><td>0</td><td>520</td><td>2.93</td><td>4</td></tr><tr><th>6</th><td>1</td><td>760</td><td>3.0</td><td>2</td></tr></table>"
      ],
      "text/plain": [
       "6x4 DataFrame\n",
       "| Row | admit | gre | gpa  | rank |\n",
       "|-----|-------|-----|------|------|\n",
       "| 1   | 0     | 380 | 3.61 | 3    |\n",
       "| 2   | 1     | 660 | 3.67 | 3    |\n",
       "| 3   | 1     | 800 | 4.0  | 1    |\n",
       "| 4   | 1     | 640 | 3.19 | 4    |\n",
       "| 5   | 0     | 520 | 2.93 | 4    |\n",
       "| 6   | 1     | 760 | 3.0  | 2    |"
      ]
     },
     "execution_count": 2,
     "metadata": {},
     "output_type": "execute_result"
    }
   ],
   "source": [
    "# show the first several rows\n",
    "head(dt)"
   ]
  },
  {
   "cell_type": "code",
   "execution_count": 75,
   "metadata": {
    "collapsed": false
   },
   "outputs": [],
   "source": [
    "# get y and X\n",
    "y = dt[:admit];\n",
    "X = dt[[:gre, :gpa]];\n",
    "m = size(X, 2)\n",
    "std_vec = [std(X[i]) for i in 1:m]\n",
    "# do feature rescaling\n",
    "for i = 1:m\n",
    "    X[i] = X[i]/std_vec[i]\n",
    "end\n",
    "n = length(y)\n",
    "y = convert(Array, y);\n",
    "X_full = convert(Matrix, [X ones(n)]);"
   ]
  },
  {
   "cell_type": "code",
   "execution_count": 12,
   "metadata": {
    "collapsed": false
   },
   "outputs": [],
   "source": [
    "# define the negative log-likelihood\n",
    "function negloglik(a, y, X_full)\n",
    "    value = 0.0;\n",
    "    tmp = X_full*a;\n",
    "    for i = 1:length(y)\n",
    "        value = value-y[i]*tmp[i]+log(1+exp(tmp[i]));\n",
    "    end\n",
    "    return value;\n",
    "end;"
   ]
  },
  {
   "cell_type": "code",
   "execution_count": 13,
   "metadata": {
    "collapsed": false,
    "scrolled": true
   },
   "outputs": [
    {
     "data": {
      "text/plain": [
       "277.2588722239787"
      ]
     },
     "execution_count": 13,
     "metadata": {},
     "output_type": "execute_result"
    }
   ],
   "source": [
    "# test the function\n",
    "negloglik([0; 0; 0], y, X_full)"
   ]
  },
  {
   "cell_type": "code",
   "execution_count": 14,
   "metadata": {
    "collapsed": false
   },
   "outputs": [
    {
     "data": {
      "text/plain": [
       "10754.278798544321"
      ]
     },
     "execution_count": 14,
     "metadata": {},
     "output_type": "execute_result"
    }
   ],
   "source": [
    "# get the L\n",
    "L = norm(X_full)^2/4"
   ]
  },
  {
   "cell_type": "code",
   "execution_count": 15,
   "metadata": {
    "collapsed": false
   },
   "outputs": [
    {
     "data": {
      "text/plain": [
       "9.298624470618691e-5"
      ]
     },
     "execution_count": 15,
     "metadata": {},
     "output_type": "execute_result"
    }
   ],
   "source": [
    "# get the step size alpha\n",
    "alpha = 1/L"
   ]
  },
  {
   "cell_type": "code",
   "execution_count": 17,
   "metadata": {
    "collapsed": true
   },
   "outputs": [],
   "source": [
    "# define the gradient\n",
    "function negloglik_grad(a, y, X_full)\n",
    "    value = zeros(1, size(X_full, 2))\n",
    "    n = length(y);\n",
    "    tmp = exp(X_full*a);\n",
    "    tmp = tmp./(1.+tmp).-y;\n",
    "    for i = 1:n\n",
    "        value = value+tmp[i]*X_full[i, :]\n",
    "    end\n",
    "    return value';\n",
    "end;"
   ]
  },
  {
   "cell_type": "code",
   "execution_count": 54,
   "metadata": {
    "collapsed": false
   },
   "outputs": [
    {
     "name": "stdout",
     "output_type": "stream",
     "text": [
      "The algorithm converges at the 107425-th iteration."
     ]
    }
   ],
   "source": [
    "a0 = [0; 0; 0];\n",
    "# T is large enough for convergence\n",
    "T = 1e6;\n",
    "eps = norm(negloglik_grad(a0, y, X_full))*1e-6;\n",
    "for t = 1:T\n",
    "    grad = negloglik_grad(a0, y, X_full)\n",
    "    a = a0-alpha*grad;\n",
    "    if norm(grad)<eps\n",
    "        @printf \"The algorithm converges at the %d-th iteration.\" t\n",
    "        break\n",
    "    end\n",
    "    a0 = a;\n",
    "end"
   ]
  },
  {
   "cell_type": "code",
   "execution_count": 55,
   "metadata": {
    "collapsed": false
   },
   "outputs": [
    {
     "data": {
      "text/plain": [
       "240.17199113390646"
      ]
     },
     "execution_count": 55,
     "metadata": {},
     "output_type": "execute_result"
    }
   ],
   "source": [
    "negloglik(a, y, X_full)"
   ]
  },
  {
   "cell_type": "code",
   "execution_count": 56,
   "metadata": {
    "collapsed": false
   },
   "outputs": [
    {
     "data": {
      "text/plain": [
       "3x1 Array{Any,2}:\n",
       "  0.00269049\n",
       "  0.754486  \n",
       " -4.94856   "
      ]
     },
     "execution_count": 56,
     "metadata": {},
     "output_type": "execute_result"
    }
   ],
   "source": [
    "# rescale the coefficients\n",
    "beta = a./[std_vec; 1]"
   ]
  },
  {
   "cell_type": "markdown",
   "metadata": {},
   "source": [
    "### Question 2"
   ]
  },
  {
   "cell_type": "markdown",
   "metadata": {},
   "source": [
    "The coefficients before the covariates GRE and GPA are 0.00269049 and 0.754486, respectively. The intercept is -4.94856."
   ]
  },
  {
   "cell_type": "markdown",
   "metadata": {},
   "source": [
    "### Question 3 & 4"
   ]
  },
  {
   "cell_type": "code",
   "execution_count": 60,
   "metadata": {
    "collapsed": false
   },
   "outputs": [
    {
     "name": "stderr",
     "output_type": "stream",
     "text": [
      "INFO: Loading help data...\n"
     ]
    }
   ],
   "source": [
    "# draw a scatterplot\n",
    "using PyPlot"
   ]
  },
  {
   "cell_type": "code",
   "execution_count": 70,
   "metadata": {
    "collapsed": false
   },
   "outputs": [
    {
     "data": {
      "image/png": "[encoded data removed]",
      "text/plain": [
       "Figure(PyObject <matplotlib.figure.Figure object at 0x112e6f050>)"
      ]
     },
     "metadata": {},
     "output_type": "display_data"
    }
   ],
   "source": [
    "fig = figure(figsize = (5, 5));\n",
    "plot(X[y.==1, :gpa], X[y.==1, :gre], \"+\");\n",
    "plot(X[y.==0, :gpa], X[y.==0, :gre], \"o\");\n",
    "# the decision boundary should be a^Tx+\\beta=0\n",
    "xs = 2.2:0.1:4.0;\n",
    "ys = (-beta[3]-beta[2]*xs)./beta[1];\n",
    "plot(xs, ys)\n",
    "xlabel(\"GPA\");\n",
    "ylabel(\"GRE\");\n",
    "title(\"GRE vs GPA\");"
   ]
  },
  {
   "cell_type": "code",
   "execution_count": null,
   "metadata": {
    "collapsed": true
   },
   "outputs": [],
   "source": []
  }
 ],
 "metadata": {
  "kernelspec": {
   "display_name": "Julia 0.3.11",
   "language": "julia",
   "name": "julia-0.3"
  },
  "language_info": {
   "file_extension": ".jl",
   "mimetype": "application/julia",
   "name": "julia",
   "version": "0.3.11"
  }
 },
 "nbformat": 4,
 "nbformat_minor": 0
}
