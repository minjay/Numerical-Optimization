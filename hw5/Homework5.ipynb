{
 "cells": [
  {
   "cell_type": "markdown",
   "metadata": {},
   "source": [
    "## Homework 5\n",
    "### Minjie Fan 998585352"
   ]
  },
  {
   "cell_type": "markdown",
   "metadata": {},
   "source": [
    "### Exercise 4"
   ]
  },
  {
   "cell_type": "code",
   "execution_count": 2,
   "metadata": {
    "collapsed": true
   },
   "outputs": [],
   "source": [
    "using ReverseDiffSource"
   ]
  },
  {
   "cell_type": "markdown",
   "metadata": {},
   "source": [
    "#### Copy Newton and Quasi-Newton from the previous homework"
   ]
  },
  {
   "cell_type": "code",
   "execution_count": 67,
   "metadata": {
    "collapsed": false
   },
   "outputs": [
    {
     "data": {
      "text/plain": [
       "backtrack (generic function with 4 methods)"
      ]
     },
     "execution_count": 67,
     "metadata": {},
     "output_type": "execute_result"
    }
   ],
   "source": [
    "function backtrack( obj, grd, x, d, rho=0.9, alpha=1.0, c=1e-4 )\n",
    "    # Find step size by backtracking\n",
    "    gxp = (grd(x)'*d)[1]\n",
    "    while obj(x+alpha*d)>obj(x)+c*alpha*gxp\n",
    "        alpha *= rho\n",
    "    end\n",
    "    return alpha\n",
    "end"
   ]
  },
  {
   "cell_type": "code",
   "execution_count": 68,
   "metadata": {
    "collapsed": false
   },
   "outputs": [
    {
     "data": {
      "text/plain": [
       "newtmin (generic function with 4 methods)"
      ]
     },
     "execution_count": 68,
     "metadata": {},
     "output_type": "execute_result"
    }
   ],
   "source": [
    "# Use the template provided\n",
    "function newtmin( obj, grd, hes, x, maxIts=100, optTol=1e-6, modify=1 )\n",
    "    # the sqrt of the machine precision\n",
    "    delta = 1e-8\n",
    "    n = length(x)\n",
    "    t = NaN\n",
    "    d = NaN\n",
    "    for t = 1:maxIts\n",
    "        f = obj(x)\n",
    "        g = grd(x)\n",
    "        H = hes(x)\n",
    "        # check condition for breaking\n",
    "        if norm(g)<optTol\n",
    "            break\n",
    "        end\n",
    "        # try chol decomp first\n",
    "        try\n",
    "            F = chol(H)\n",
    "            d = -R\\(R'\\g)\n",
    "        # o.w., use eigenvalue modification\n",
    "        catch\n",
    "            F = eigfact(H)\n",
    "            # method 1\n",
    "            if modify==1\n",
    "                Lambda_inv = 1./max(abs(F[:values]), delta)\n",
    "            # method 2\n",
    "            else\n",
    "                Lambda_inv = 1./max(F[:values], delta)\n",
    "            end\n",
    "            d = -F[:vectors]*Diagonal(Lambda_inv)*F[:vectors]'*g\n",
    "        end\n",
    "        # find alpha\n",
    "        alpha = backtrack( obj, grd, x, d )\n",
    "        # update x\n",
    "        x = x+alpha*d\n",
    "    end\n",
    "    return (x, t-1)\n",
    "end"
   ]
  },
  {
   "cell_type": "code",
   "execution_count": 177,
   "metadata": {
    "collapsed": false
   },
   "outputs": [
    {
     "data": {
      "text/plain": [
       "bisection (generic function with 8 methods)"
      ]
     },
     "execution_count": 177,
     "metadata": {},
     "output_type": "execute_result"
    }
   ],
   "source": [
    "function bisection( obj, grd, x, d, rho=0.9, alpha=1.0, alpha_l=0.0, alpha_r=100.0, c1=1e-4, c2=0.9, max_iter=100 )\n",
    "    # Find step size by bisection method\n",
    "    for i = 1:max_iter\n",
    "        gxp = (grd(x)'*d)[1]\n",
    "        x_new = x+alpha*d\n",
    "        gxp_new = (grd(x_new)'*d)[1]\n",
    "        if obj(x_new)>obj(x)+c1*alpha*gxp\n",
    "            alpha_r = alpha\n",
    "            alpha = (alpha_l+alpha_r)/2.0\n",
    "        elseif gxp_new<c2*gxp\n",
    "            alpha_l = alpha\n",
    "            if alpha_r>=100.0\n",
    "                alpha = 2*alpha_l\n",
    "            else\n",
    "                alpha = (alpha_l+alpha_r)/2.0\n",
    "            end\n",
    "        else \n",
    "            break\n",
    "        end\n",
    "    end\n",
    "    return alpha\n",
    "end"
   ]
  },
  {
   "cell_type": "code",
   "execution_count": 178,
   "metadata": {
    "collapsed": false
   },
   "outputs": [
    {
     "data": {
      "text/plain": [
       "newtminBFGS (generic function with 3 methods)"
      ]
     },
     "execution_count": 178,
     "metadata": {},
     "output_type": "execute_result"
    }
   ],
   "source": [
    "# Use the template provided\n",
    "function newtminBFGS( obj, grd, hes, x, maxIts=100, optTol=1e-6 )\n",
    "    # Minimize a function f using Newton’s method.\n",
    "    n = length(x)\n",
    "    # the init value of H\n",
    "    H_approx = eye(n)\n",
    "    t = NaN\n",
    "    f_pre = NaN\n",
    "    for t = 1:maxIts\n",
    "        f = obj(x)\n",
    "        g = grd(x)\n",
    "        H = hes(x)\n",
    "        if norm(g)<optTol\n",
    "            break\n",
    "        end\n",
    "        # get dir\n",
    "        d = -H_approx*g\n",
    "        # find alpha\n",
    "        alpha = bisection( obj, grd, x, d )\n",
    "        # update x\n",
    "        x_new = x+alpha*d\n",
    "        # get s\n",
    "        s = x_new-x\n",
    "        # get y\n",
    "        y = grd(x_new)-g\n",
    "        rho_k = 1/(y'*s)[1]\n",
    "        # update H\n",
    "        H_approx = (eye(n)-rho_k*s*y')*H_approx*(eye(n)-rho_k*y*s')+rho_k*s*s'\n",
    "        \n",
    "        # update x and f_pre\n",
    "        x = x_new\n",
    "        f_pre = f\n",
    "    end\n",
    "    return (x, t-1)\n",
    "end"
   ]
  },
  {
   "cell_type": "markdown",
   "metadata": {},
   "source": [
    "#### Define the augmented Lagrangian"
   ]
  },
  {
   "cell_type": "code",
   "execution_count": 146,
   "metadata": {
    "collapsed": false
   },
   "outputs": [
    {
     "data": {
      "text/plain": [
       "L (generic function with 1 method)"
      ]
     },
     "execution_count": 146,
     "metadata": {},
     "output_type": "execute_result"
    }
   ],
   "source": [
    "function L(x, y, rho, f, c)\n",
    "    c_vec = c(x)\n",
    "    m = length(c_vec)\n",
    "    value = f(x)\n",
    "    for i = 1:m\n",
    "        value = value-y[i]*c_vec[i]+0.5*rho*c_vec[i]^2\n",
    "    end\n",
    "    return value\n",
    "end"
   ]
  },
  {
   "cell_type": "markdown",
   "metadata": {},
   "source": [
    "#### Define the gradient of L"
   ]
  },
  {
   "cell_type": "code",
   "execution_count": 147,
   "metadata": {
    "collapsed": false
   },
   "outputs": [
    {
     "data": {
      "text/plain": [
       "gL (generic function with 2 methods)"
      ]
     },
     "execution_count": 147,
     "metadata": {},
     "output_type": "execute_result"
    }
   ],
   "source": [
    "function gL(x, y, rho, c, f_diff, c_diff)\n",
    "    n = length(x)\n",
    "    m = length(y)\n",
    "    vec = zeros(n, 1)\n",
    "    g_vec = f_diff(x)[2]\n",
    "    J_mat = zeros(m, n)\n",
    "    for j = 1:m\n",
    "        J_mat[j, :] = c_diff[j](x)[2] \n",
    "    end\n",
    "    y_hat = y-rho*c(x)\n",
    "    for i = 1:n\n",
    "        tmp = 0\n",
    "        for j = 1:m\n",
    "            tmp = tmp+J_mat[j, i]*y_hat[j]\n",
    "        end\n",
    "        vec[i] = g_vec[i]-tmp\n",
    "    end\n",
    "    return vec\n",
    "end"
   ]
  },
  {
   "cell_type": "markdown",
   "metadata": {},
   "source": [
    "#### Define the Hessian of L"
   ]
  },
  {
   "cell_type": "code",
   "execution_count": 150,
   "metadata": {
    "collapsed": false
   },
   "outputs": [
    {
     "data": {
      "text/plain": [
       "HL (generic function with 2 methods)"
      ]
     },
     "execution_count": 150,
     "metadata": {},
     "output_type": "execute_result"
    }
   ],
   "source": [
    "function HL(x, y, rho, c, f_diff, c_diff)\n",
    "    n = length(x)\n",
    "    m = length(y)\n",
    "    y_hat = y-rho*c(x)\n",
    "    mat = f_diff(x)[3]\n",
    "    for j = 1:m\n",
    "        mat = mat-y_hat[j]*c_diff[j](x)[3]\n",
    "    end\n",
    "    J_mat = zeros(m, n)\n",
    "    for j = 1:m\n",
    "        J_mat[j, :] = c_diff[j](x)[2] \n",
    "    end\n",
    "    mat = mat+rho*(J_mat'*J_mat)\n",
    "end"
   ]
  },
  {
   "cell_type": "markdown",
   "metadata": {},
   "source": [
    "#### Test L, gL and HL"
   ]
  },
  {
   "cell_type": "code",
   "execution_count": 154,
   "metadata": {
    "collapsed": false,
    "scrolled": true
   },
   "outputs": [
    {
     "data": {
      "text/plain": [
       "f (generic function with 1 method)"
      ]
     },
     "execution_count": 154,
     "metadata": {},
     "output_type": "execute_result"
    }
   ],
   "source": [
    "f(x) = (1-x[1])^2 "
   ]
  },
  {
   "cell_type": "code",
   "execution_count": 155,
   "metadata": {
    "collapsed": false
   },
   "outputs": [
    {
     "data": {
      "text/plain": [
       "c (generic function with 1 method)"
      ]
     },
     "execution_count": 155,
     "metadata": {},
     "output_type": "execute_result"
    }
   ],
   "source": [
    "c(x) = 10*(x[2]-x[1]^2)"
   ]
  },
  {
   "cell_type": "code",
   "execution_count": 156,
   "metadata": {
    "collapsed": false
   },
   "outputs": [
    {
     "data": {
      "text/plain": [
       "(anonymous function)"
      ]
     },
     "execution_count": 156,
     "metadata": {},
     "output_type": "execute_result"
    }
   ],
   "source": [
    "f_diff = rdiff(f, (ones(2),), order=2)"
   ]
  },
  {
   "cell_type": "code",
   "execution_count": 157,
   "metadata": {
    "collapsed": false
   },
   "outputs": [
    {
     "data": {
      "text/plain": [
       "(anonymous function)"
      ]
     },
     "execution_count": 157,
     "metadata": {},
     "output_type": "execute_result"
    }
   ],
   "source": [
    "c_diff = rdiff(c, (ones(2),), order=2)"
   ]
  },
  {
   "cell_type": "code",
   "execution_count": 158,
   "metadata": {
    "collapsed": false
   },
   "outputs": [
    {
     "data": {
      "text/plain": [
       "0.0"
      ]
     },
     "execution_count": 158,
     "metadata": {},
     "output_type": "execute_result"
    }
   ],
   "source": [
    "L([1, 1], 1, 1, f, c)"
   ]
  },
  {
   "cell_type": "code",
   "execution_count": 159,
   "metadata": {
    "collapsed": false
   },
   "outputs": [
    {
     "data": {
      "text/plain": [
       "2x1 Array{Float64,2}:\n",
       "  20.0\n",
       " -10.0"
      ]
     },
     "execution_count": 159,
     "metadata": {},
     "output_type": "execute_result"
    }
   ],
   "source": [
    "gL([1, 1], 1, 1, c, f_diff, (c_diff,))"
   ]
  },
  {
   "cell_type": "code",
   "execution_count": 160,
   "metadata": {
    "collapsed": false
   },
   "outputs": [
    {
     "data": {
      "text/plain": [
       "2x2 Array{Float64,2}:\n",
       "  422.0  -200.0\n",
       " -200.0   100.0"
      ]
     },
     "execution_count": 160,
     "metadata": {},
     "output_type": "execute_result"
    }
   ],
   "source": [
    "HL([1, 1], 1, 1, c, f_diff, (c_diff,))"
   ]
  },
  {
   "cell_type": "markdown",
   "metadata": {},
   "source": [
    "#### Define the function of the augmented Lagrangian method"
   ]
  },
  {
   "cell_type": "code",
   "execution_count": 179,
   "metadata": {
    "collapsed": false
   },
   "outputs": [
    {
     "data": {
      "text/plain": [
       "AL (generic function with 4 methods)"
      ]
     },
     "execution_count": 179,
     "metadata": {},
     "output_type": "execute_result"
    }
   ],
   "source": [
    "function AL(f, c, f_diff, c_diff, x, y, rho, optFun, maxIts=100, optTol=1e-6)\n",
    "    # note that c_diff is a tuple of functions\n",
    "    t = NaN\n",
    "    for t = 1:maxIts\n",
    "        obj(x) = L(x, y, rho, f, c)\n",
    "        grd(x) = gL(x, y, rho, c, f_diff, c_diff)\n",
    "        hes(x) = HL(x, y, rho, c, f_diff, c_diff)\n",
    "        # check whether exit\n",
    "        if norm(grd(x))<optTol\n",
    "            break\n",
    "        end\n",
    "        # approximate minimization is enough\n",
    "        if optFun==\"Newton\"\n",
    "            res = newtmin( obj, grd, hes, x, 100, 1e-6 )\n",
    "        elseif optFun==\"BFGS\"\n",
    "            res = newtminBFGS( obj, grd, hes, x, 100, 1e-6 )\n",
    "        end\n",
    "        x = res[1]\n",
    "        # check whether ||c(x)|| is small enough\n",
    "        if norm(c(x))<1e-3\n",
    "            y = y-rho*c(x)\n",
    "        else\n",
    "            # increase rho by a factor of 2\n",
    "            rho = rho*2\n",
    "        end\n",
    "    end\n",
    "    return (x, t-1)\n",
    "end"
   ]
  },
  {
   "cell_type": "markdown",
   "metadata": {},
   "source": [
    "#### Problem 6"
   ]
  },
  {
   "cell_type": "code",
   "execution_count": 180,
   "metadata": {
    "collapsed": false
   },
   "outputs": [
    {
     "data": {
      "text/plain": [
       "f (generic function with 1 method)"
      ]
     },
     "execution_count": 180,
     "metadata": {},
     "output_type": "execute_result"
    }
   ],
   "source": [
    "f(x) = (1-x[1])^2 "
   ]
  },
  {
   "cell_type": "code",
   "execution_count": 181,
   "metadata": {
    "collapsed": false
   },
   "outputs": [
    {
     "data": {
      "text/plain": [
       "c (generic function with 1 method)"
      ]
     },
     "execution_count": 181,
     "metadata": {},
     "output_type": "execute_result"
    }
   ],
   "source": [
    "c(x) = 10*(x[2]-x[1]^2)"
   ]
  },
  {
   "cell_type": "code",
   "execution_count": 182,
   "metadata": {
    "collapsed": false
   },
   "outputs": [
    {
     "data": {
      "text/plain": [
       "(anonymous function)"
      ]
     },
     "execution_count": 182,
     "metadata": {},
     "output_type": "execute_result"
    }
   ],
   "source": [
    "f_diff = rdiff(f, (ones(2),), order=2)"
   ]
  },
  {
   "cell_type": "code",
   "execution_count": 183,
   "metadata": {
    "collapsed": false
   },
   "outputs": [
    {
     "data": {
      "text/plain": [
       "(anonymous function)"
      ]
     },
     "execution_count": 183,
     "metadata": {},
     "output_type": "execute_result"
    }
   ],
   "source": [
    "c_diff = rdiff(c, (ones(2),), order=2)"
   ]
  },
  {
   "cell_type": "code",
   "execution_count": 194,
   "metadata": {
    "collapsed": false
   },
   "outputs": [
    {
     "name": "stdout",
     "output_type": "stream",
     "text": [
      "elapsed time: 0.026284256 seconds\n"
     ]
    }
   ],
   "source": [
    "tic()\n",
    "res = AL(f, c, f_diff, (c_diff,), [-1.2, 1], 1, 1, \"Newton\", 1e3)\n",
    "time = toc();"
   ]
  },
  {
   "cell_type": "code",
   "execution_count": 195,
   "metadata": {
    "collapsed": false
   },
   "outputs": [
    {
     "data": {
      "text/plain": [
       "(\n",
       "2x1 Array{Float64,2}:\n",
       " 1.0\n",
       " 1.0,\n",
       "\n",
       "12.0)"
      ]
     },
     "execution_count": 195,
     "metadata": {},
     "output_type": "execute_result"
    }
   ],
   "source": [
    "res"
   ]
  },
  {
   "cell_type": "code",
   "execution_count": 196,
   "metadata": {
    "collapsed": false
   },
   "outputs": [
    {
     "name": "stdout",
     "output_type": "stream",
     "text": [
      "elapsed time: 0.02304561 seconds\n"
     ]
    }
   ],
   "source": [
    "tic()\n",
    "res = AL(f, c, f_diff, (c_diff,), [-1.2, 1], 1, 1, \"BFGS\", 1e3)\n",
    "toc();"
   ]
  },
  {
   "cell_type": "code",
   "execution_count": 197,
   "metadata": {
    "collapsed": false
   },
   "outputs": [
    {
     "data": {
      "text/plain": [
       "(\n",
       "2x1 Array{Float64,2}:\n",
       " 1.0\n",
       " 1.0,\n",
       "\n",
       "12.0)"
      ]
     },
     "execution_count": 197,
     "metadata": {},
     "output_type": "execute_result"
    }
   ],
   "source": [
    "res"
   ]
  },
  {
   "cell_type": "markdown",
   "metadata": {},
   "source": [
    "For problem 6, both Newton and quasi-Newton implementations give the correct minimum. The former is a little bit slower than the latter (0.026284256 seconds>0.02304561 seconds)."
   ]
  },
  {
   "cell_type": "markdown",
   "metadata": {},
   "source": [
    "#### Problem 7"
   ]
  },
  {
   "cell_type": "code",
   "execution_count": 198,
   "metadata": {
    "collapsed": false
   },
   "outputs": [
    {
     "data": {
      "text/plain": [
       "f (generic function with 1 method)"
      ]
     },
     "execution_count": 198,
     "metadata": {},
     "output_type": "execute_result"
    }
   ],
   "source": [
    "f(x) = log(1+x[1]^2)-x[2]"
   ]
  },
  {
   "cell_type": "code",
   "execution_count": 199,
   "metadata": {
    "collapsed": false
   },
   "outputs": [
    {
     "data": {
      "text/plain": [
       "c (generic function with 1 method)"
      ]
     },
     "execution_count": 199,
     "metadata": {},
     "output_type": "execute_result"
    }
   ],
   "source": [
    "c(x) = (1+x[1]^2)^2+x[2]^2-4"
   ]
  },
  {
   "cell_type": "code",
   "execution_count": 200,
   "metadata": {
    "collapsed": false
   },
   "outputs": [
    {
     "data": {
      "text/plain": [
       "(anonymous function)"
      ]
     },
     "execution_count": 200,
     "metadata": {},
     "output_type": "execute_result"
    }
   ],
   "source": [
    "f_diff = rdiff(f, (ones(2),), order=2)"
   ]
  },
  {
   "cell_type": "code",
   "execution_count": 201,
   "metadata": {
    "collapsed": false
   },
   "outputs": [
    {
     "data": {
      "text/plain": [
       "(anonymous function)"
      ]
     },
     "execution_count": 201,
     "metadata": {},
     "output_type": "execute_result"
    }
   ],
   "source": [
    "c_diff = rdiff(c, (ones(2),), order=2)"
   ]
  },
  {
   "cell_type": "code",
   "execution_count": 237,
   "metadata": {
    "collapsed": false
   },
   "outputs": [
    {
     "name": "stdout",
     "output_type": "stream",
     "text": [
      "elapsed time: 0.012054674 seconds\n"
     ]
    }
   ],
   "source": [
    "tic()\n",
    "res = AL(f, c, f_diff, (c_diff,), [2, 2], 1, 1, \"Newton\", 1e3)\n",
    "toc();"
   ]
  },
  {
   "cell_type": "code",
   "execution_count": 226,
   "metadata": {
    "collapsed": false
   },
   "outputs": [
    {
     "data": {
      "text/plain": [
       "(\n",
       "2x1 Array{Float64,2}:\n",
       " 8.15206e-65\n",
       " 1.73205    ,\n",
       "\n",
       "14.0)"
      ]
     },
     "execution_count": 226,
     "metadata": {},
     "output_type": "execute_result"
    }
   ],
   "source": [
    "res"
   ]
  },
  {
   "cell_type": "code",
   "execution_count": 227,
   "metadata": {
    "collapsed": false
   },
   "outputs": [
    {
     "data": {
      "text/plain": [
       "9.969802761133906e-14"
      ]
     },
     "execution_count": 227,
     "metadata": {},
     "output_type": "execute_result"
    }
   ],
   "source": [
    "norm(res[1]-[0, sqrt(3)])"
   ]
  },
  {
   "cell_type": "code",
   "execution_count": 238,
   "metadata": {
    "collapsed": false
   },
   "outputs": [
    {
     "name": "stdout",
     "output_type": "stream",
     "text": [
      "elapsed time: 0.015254914 seconds\n"
     ]
    }
   ],
   "source": [
    "tic()\n",
    "res = AL(f, c, f_diff, (c_diff,), [2, 2], 1, 1, \"BFGS\", 1e3)\n",
    "toc();"
   ]
  },
  {
   "cell_type": "code",
   "execution_count": 229,
   "metadata": {
    "collapsed": false
   },
   "outputs": [
    {
     "data": {
      "text/plain": [
       "(\n",
       "2x1 Array{Float64,2}:\n",
       " 4.18172e-10\n",
       " 1.73205    ,\n",
       "\n",
       "14.0)"
      ]
     },
     "execution_count": 229,
     "metadata": {},
     "output_type": "execute_result"
    }
   ],
   "source": [
    "res"
   ]
  },
  {
   "cell_type": "code",
   "execution_count": 230,
   "metadata": {
    "collapsed": false
   },
   "outputs": [
    {
     "data": {
      "text/plain": [
       "4.1817352094597014e-10"
      ]
     },
     "execution_count": 230,
     "metadata": {},
     "output_type": "execute_result"
    }
   ],
   "source": [
    "norm(res[1]-[0, sqrt(3)])"
   ]
  },
  {
   "cell_type": "markdown",
   "metadata": {},
   "source": [
    "For problem 7, both Newton and quasi-Newton implementations give the correct minimum with tiny numerical error. The former has smaller error and also runs faster than the latter."
   ]
  },
  {
   "cell_type": "markdown",
   "metadata": {},
   "source": [
    "#### Problem 8"
   ]
  },
  {
   "cell_type": "code",
   "execution_count": 239,
   "metadata": {
    "collapsed": false
   },
   "outputs": [
    {
     "data": {
      "text/plain": [
       "f (generic function with 1 method)"
      ]
     },
     "execution_count": 239,
     "metadata": {},
     "output_type": "execute_result"
    }
   ],
   "source": [
    "f(x) = -1"
   ]
  },
  {
   "cell_type": "code",
   "execution_count": 240,
   "metadata": {
    "collapsed": false
   },
   "outputs": [
    {
     "data": {
      "text/plain": [
       "c1 (generic function with 1 method)"
      ]
     },
     "execution_count": 240,
     "metadata": {},
     "output_type": "execute_result"
    }
   ],
   "source": [
    "c1(x) = x[1]^2+x[2]^2-25"
   ]
  },
  {
   "cell_type": "code",
   "execution_count": 241,
   "metadata": {
    "collapsed": false
   },
   "outputs": [
    {
     "data": {
      "text/plain": [
       "c2 (generic function with 1 method)"
      ]
     },
     "execution_count": 241,
     "metadata": {},
     "output_type": "execute_result"
    }
   ],
   "source": [
    "c2(x) = x[1]*x[2]-9"
   ]
  },
  {
   "cell_type": "code",
   "execution_count": 242,
   "metadata": {
    "collapsed": false
   },
   "outputs": [
    {
     "data": {
      "text/plain": [
       "c (generic function with 1 method)"
      ]
     },
     "execution_count": 242,
     "metadata": {},
     "output_type": "execute_result"
    }
   ],
   "source": [
    "c(x) = [c1(x), c2(x)]"
   ]
  },
  {
   "cell_type": "code",
   "execution_count": 243,
   "metadata": {
    "collapsed": false
   },
   "outputs": [
    {
     "data": {
      "text/plain": [
       "f_diff_const (generic function with 1 method)"
      ]
     },
     "execution_count": 243,
     "metadata": {},
     "output_type": "execute_result"
    }
   ],
   "source": [
    "f_diff_const(x) = (-1, zeros(2), zeros(2,2))"
   ]
  },
  {
   "cell_type": "code",
   "execution_count": 244,
   "metadata": {
    "collapsed": false
   },
   "outputs": [
    {
     "data": {
      "text/plain": [
       "(anonymous function)"
      ]
     },
     "execution_count": 244,
     "metadata": {},
     "output_type": "execute_result"
    }
   ],
   "source": [
    "c1_diff = rdiff(c1, (ones(2),), order=2)"
   ]
  },
  {
   "cell_type": "code",
   "execution_count": 245,
   "metadata": {
    "collapsed": false
   },
   "outputs": [
    {
     "data": {
      "text/plain": [
       "(anonymous function)"
      ]
     },
     "execution_count": 245,
     "metadata": {},
     "output_type": "execute_result"
    }
   ],
   "source": [
    "c2_diff = rdiff(c2, (ones(2),), order=2)"
   ]
  },
  {
   "cell_type": "code",
   "execution_count": 260,
   "metadata": {
    "collapsed": false,
    "scrolled": true
   },
   "outputs": [
    {
     "name": "stdout",
     "output_type": "stream",
     "text": [
      "elapsed time: 0.013045841 seconds\n"
     ]
    }
   ],
   "source": [
    "tic()\n",
    "res = AL(f, c, f_diff_const, (c1_diff, c2_diff,), [2, 1], [1, 1], 1, \"Newton\", 1e3)\n",
    "toc();"
   ]
  },
  {
   "cell_type": "code",
   "execution_count": 261,
   "metadata": {
    "collapsed": false
   },
   "outputs": [
    {
     "data": {
      "text/plain": [
       "(\n",
       "2x1 Array{Float64,2}:\n",
       " 4.60159\n",
       " 1.95584,\n",
       "\n",
       "13.0)"
      ]
     },
     "execution_count": 261,
     "metadata": {},
     "output_type": "execute_result"
    }
   ],
   "source": [
    "res"
   ]
  },
  {
   "cell_type": "code",
   "execution_count": 262,
   "metadata": {
    "collapsed": false
   },
   "outputs": [
    {
     "name": "stdout",
     "output_type": "stream",
     "text": [
      "elapsed time: 0.028363099 seconds\n"
     ]
    }
   ],
   "source": [
    "tic()\n",
    "res = AL(f, c, f_diff_const, (c1_diff, c2_diff,), [2, 1], [1, 1], 1, \"BFGS\", 1e3)\n",
    "toc();"
   ]
  },
  {
   "cell_type": "code",
   "execution_count": 263,
   "metadata": {
    "collapsed": false
   },
   "outputs": [
    {
     "data": {
      "text/plain": [
       "(\n",
       "2x1 Array{Float64,2}:\n",
       " 4.60159\n",
       " 1.95584,\n",
       "\n",
       "13.0)"
      ]
     },
     "execution_count": 263,
     "metadata": {},
     "output_type": "execute_result"
    }
   ],
   "source": [
    "res"
   ]
  },
  {
   "cell_type": "markdown",
   "metadata": {},
   "source": [
    "For problem 8, both Newton and quasi-Newton implementations give one of the correct minimums. The former runs much faster than the latter."
   ]
  },
  {
   "cell_type": "markdown",
   "metadata": {},
   "source": [
    "#### Problem 9"
   ]
  },
  {
   "cell_type": "code",
   "execution_count": 264,
   "metadata": {
    "collapsed": false
   },
   "outputs": [
    {
     "data": {
      "text/plain": [
       "f (generic function with 1 method)"
      ]
     },
     "execution_count": 264,
     "metadata": {},
     "output_type": "execute_result"
    }
   ],
   "source": [
    "f(x) = sin(pi*x[1]/12)*cos(pi*x[2]/16)"
   ]
  },
  {
   "cell_type": "code",
   "execution_count": 265,
   "metadata": {
    "collapsed": false
   },
   "outputs": [
    {
     "data": {
      "text/plain": [
       "c (generic function with 1 method)"
      ]
     },
     "execution_count": 265,
     "metadata": {},
     "output_type": "execute_result"
    }
   ],
   "source": [
    "c(x) = 4*x[1]-3*x[2]"
   ]
  },
  {
   "cell_type": "code",
   "execution_count": 266,
   "metadata": {
    "collapsed": false
   },
   "outputs": [
    {
     "data": {
      "text/plain": [
       "(anonymous function)"
      ]
     },
     "execution_count": 266,
     "metadata": {},
     "output_type": "execute_result"
    }
   ],
   "source": [
    "f_diff = rdiff(f, (ones(2),), order=2)"
   ]
  },
  {
   "cell_type": "code",
   "execution_count": 267,
   "metadata": {
    "collapsed": false
   },
   "outputs": [
    {
     "data": {
      "text/plain": [
       "(anonymous function)"
      ]
     },
     "execution_count": 267,
     "metadata": {},
     "output_type": "execute_result"
    }
   ],
   "source": [
    "c_diff = rdiff(c, (ones(2),), order=2)"
   ]
  },
  {
   "cell_type": "code",
   "execution_count": 274,
   "metadata": {
    "collapsed": false,
    "scrolled": true
   },
   "outputs": [
    {
     "name": "stdout",
     "output_type": "stream",
     "text": [
      "elapsed time: 0.00599479 seconds\n"
     ]
    }
   ],
   "source": [
    "tic()\n",
    "res = AL(f, c, f_diff, (c_diff,), [0, 0], 1, 1, \"Newton\", 1e3)\n",
    "toc();"
   ]
  },
  {
   "cell_type": "code",
   "execution_count": 275,
   "metadata": {
    "collapsed": false
   },
   "outputs": [
    {
     "data": {
      "text/plain": [
       "(\n",
       "2x1 Array{Float64,2}:\n",
       " -15243.0\n",
       " -20324.0,\n",
       "\n",
       "12.0)"
      ]
     },
     "execution_count": 275,
     "metadata": {},
     "output_type": "execute_result"
    }
   ],
   "source": [
    "res"
   ]
  },
  {
   "cell_type": "code",
   "execution_count": 276,
   "metadata": {
    "collapsed": false
   },
   "outputs": [
    {
     "name": "stdout",
     "output_type": "stream",
     "text": [
      "elapsed time: 0.011753298 seconds\n"
     ]
    }
   ],
   "source": [
    "tic()\n",
    "res = AL(f, c, f_diff, (c_diff,), [0, 0], 1, 1, \"BFGS\", 1e3)\n",
    "toc();"
   ]
  },
  {
   "cell_type": "code",
   "execution_count": 277,
   "metadata": {
    "collapsed": false
   },
   "outputs": [
    {
     "data": {
      "text/plain": [
       "(\n",
       "2x1 Array{Float64,2}:\n",
       " -3.0\n",
       " -4.0,\n",
       "\n",
       "12.0)"
      ]
     },
     "execution_count": 277,
     "metadata": {},
     "output_type": "execute_result"
    }
   ],
   "source": [
    "res"
   ]
  },
  {
   "cell_type": "markdown",
   "metadata": {},
   "source": [
    "For problem 9, both Newton and quasi-Newton implementations give one of the correct minimums. The most interesting finding is that the minimums they give are different. Besides, the former runs much faster than the latter."
   ]
  },
  {
   "cell_type": "code",
   "execution_count": null,
   "metadata": {
    "collapsed": true
   },
   "outputs": [],
   "source": []
  }
 ],
 "metadata": {
  "kernelspec": {
   "display_name": "Julia 0.4.0",
   "language": "julia",
   "name": "julia-0.4"
  },
  "language_info": {
   "file_extension": ".jl",
   "mimetype": "application/julia",
   "name": "julia",
   "version": "0.4.0"
  }
 },
 "nbformat": 4,
 "nbformat_minor": 0
}
