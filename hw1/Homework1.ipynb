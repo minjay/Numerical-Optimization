{
 "cells": [
  {
   "cell_type": "markdown",
   "metadata": {},
   "source": [
    "# MAT 258A: Numerical Optimization\n",
    "# Homework 1,  Minjie Fan, 998585352\n",
    "# 09/29/2015"
   ]
  },
  {
   "cell_type": "markdown",
   "metadata": {},
   "source": [
    "## Exercise 1"
   ]
  },
  {
   "cell_type": "markdown",
   "metadata": {},
   "source": [
    "* Assume that $P$ projects vectors from $\\mathbb{R}^n$ to a subspace $W$, where $dim(W)>0$ since $P\\neq 0$. Then for any $w \\in W$, $Pw=w$.\n",
    "\n",
    "$||P||_2 = sup_{||x||_2=1}||Px||_2 \\geq ||Pw_0||_2$, where $w_0 \\in W$ and $||w_0||_2=1$.\n",
    "\n",
    "Then $||P||_2\\geq ||Pw_0||_2=||w_0||_2=1$.\n",
    "\n",
    "* If $P$ is an orthogonal projector, i.e., $P^2=P$ and $P^T=P$.\n",
    "\n",
    "This implies that $P$ has real eigenvalues $0$ and $1$. Since $P \\neq 0$, $P$ has eigenvalues $1$.\n",
    "\n",
    "Then $||P||_2=(\\lambda_{max}(P^TP))^{1/2}=(\\lambda_{max}(P))^{1/2}=1$.\n",
    "\n",
    "* If $||P||_2=1$, we take any non-zero element $x$ from $\\mathbb{R}^n$.\n",
    "\n",
    "Then $x = Px+(I-P)x$.\n",
    "\n",
    "Since $P^2=P$ and $P^T=P$ (orthogonal projector), we have\n",
    "\n",
    "$||x||^2_2=||Px+(I-P)x||^2_2=||Px||^2_2+||(I-P)x||^2_2$.\n",
    "\n",
    "Thus, $||x||^2_2 \\geq ||Px||^2_2$ and $||P||_2\\leq 1$.\n",
    "\n",
    "Together with $||P||_2\\geq 1$, we have $||P||_2=1$."
   ]
  },
  {
   "cell_type": "markdown",
   "metadata": {},
   "source": [
    "## Exercise 2"
   ]
  },
  {
   "cell_type": "markdown",
   "metadata": {},
   "source": [
    "* From lecture, we have learned that the minimizer can be obtained by $A^Tr=0$, where $r=b-Ax$.\n",
    "\n",
    "Apparently, this is equivalent to the augmented linear system.\n",
    "\n",
    "* Let $f(x)=||Ax-b||^2+\\delta^2||x||^2+2c^Tx$.\n",
    "\n",
    "Then $\\frac{\\partial f(x)}{\\partial x}=x^T(A^TA+\\delta^2I)x-2(b^TA-c^T)x+b^Tb$.\n",
    "\n",
    "Let it be zero, we have\n",
    "\n",
    "$(A^TA+\\delta^2I)x=A^Tb-c$.\n",
    "\n",
    "Then $A^Tr=\\delta^2x+c$.\n",
    "\n",
    "Together with $r=b-Ax$, we have\n",
    "\n",
    "$\\left( \\begin{array}\n",
    "{rr}\n",
    "I & A \\\\\n",
    "A^T & -\\delta^2I \\\\\n",
    "\\end{array} \\right)\n",
    "\\left( \\begin{array}\n",
    "{r}\n",
    "r \\\\\n",
    "x \\\\\n",
    "\\end{array} \\right)=\n",
    "\\left( \\begin{array}\n",
    "{r}\n",
    "b \\\\\n",
    "c \\\\\n",
    "\\end{array} \\right)\n",
    "$."
   ]
  },
  {
   "cell_type": "markdown",
   "metadata": {},
   "source": [
    "## Exercise 3"
   ]
  },
  {
   "cell_type": "markdown",
   "metadata": {},
   "source": [
    "We apply the SVD to $A$, i.e., \n",
    "\n",
    "$A=U\\Sigma V^T$, where $U$ is $m$-by-$n$, $\\Sigma$ is $n$-by-$n$ and $V$ is $n$-by-$n$.\n",
    "\n",
    "Besides, $U^TU=I$, $\\Sigma^T = \\Sigma$ and $V^T=V^{-1}$."
   ]
  },
  {
   "cell_type": "markdown",
   "metadata": {},
   "source": [
    "1. $(A^TA)^{-1}=(V\\Sigma^T U^TU\\Sigma V^T)^{-1}=(V\\Sigma^2 V^T)^{-1}=V \\Sigma^{-2}V^T$.\n",
    "\n",
    "2. $(A^TA)^{-1}A^T=V\\Sigma^{-2}V^TV\\Sigma^T U^T=V \\Sigma^{-1}U^T$.\n",
    "\n",
    "3. $A(A^TA)^{-1}=U\\Sigma V^TV \\Sigma^{-2}V^T=U\\Sigma^{-1}V^T$.\n",
    "\n",
    "4. $A(A^TA)^{-1}A^T=U \\Sigma^{-1}V^TV\\Sigma^T U^T=U I U^T$."
   ]
  },
  {
   "cell_type": "markdown",
   "metadata": {},
   "source": [
    "## Exercise 4"
   ]
  },
  {
   "cell_type": "markdown",
   "metadata": {},
   "source": [
    "* Minimizing $||Ax-b||$ is equivalent to solving $A^TAx=A^Tb$. \n",
    "\n",
    "Its solution space is of dimension $n-rank(A^TA)$.\n",
    "\n",
    "By the inequalities of the rank operator, we have\n",
    "\n",
    "$rank(A^TA)\\leq rank(A)=m$,\n",
    "\n",
    "and $rank(A^TA) \\geq rank(A^T)+rank(A)-m=m$.\n",
    "\n",
    "Thus, $rank(A^TA)=m$, and the solution space is of dimension $n-m$."
   ]
  },
  {
   "cell_type": "markdown",
   "metadata": {},
   "source": [
    "* The problem is formulated as\n",
    "\n",
    "min $\\frac{1}{2}||x||^2_2$, s.t. $Ax=b$.\n",
    "\n",
    "From lecture, we have shown that the above problem is equivalent to \n",
    "\n",
    "find $x$, s.t.\n",
    "\n",
    "$Ax=b$ and there exists $y$ satisfying $A^Ty=x$."
   ]
  },
  {
   "cell_type": "markdown",
   "metadata": {},
   "source": [
    "(i). By these two conditions, we have\n",
    "\n",
    "$AA^Ty=Ax=b$.\n",
    "\n",
    "Since $rank(AA^T)=m$, $y=(AA^T)^{-1}b$.\n",
    "\n",
    "Thus, $x=A^T(AA^T)^{-1}b$."
   ]
  },
  {
   "cell_type": "markdown",
   "metadata": {
    "collapsed": true
   },
   "source": [
    "(ii). By QR decomposition, $A^T=QR=[Q_1|Q_w][R_1;0]=Q_1R_1$.\n",
    "\n",
    "Thus, $x=Q_1R_1(R_1^TR_1)^{-1}b=Q_1R_1^{-T}b$."
   ]
  },
  {
   "cell_type": "markdown",
   "metadata": {},
   "source": [
    "(iii). By the SVD decomposition, $A^T=U\\Sigma V^T$.\n",
    "\n",
    "Thus, $x=U\\Sigma V^T(V\\Sigma^T\\Sigma V^T)^{-1}b=U\\Sigma^{-1} V^Tb$."
   ]
  },
  {
   "cell_type": "markdown",
   "metadata": {},
   "source": [
    "## Exercise 5"
   ]
  },
  {
   "cell_type": "markdown",
   "metadata": {},
   "source": [
    "load packages"
   ]
  },
  {
   "cell_type": "code",
   "execution_count": 10,
   "metadata": {
    "collapsed": false
   },
   "outputs": [
    {
     "name": "stderr",
     "output_type": "stream",
     "text": [
      "INFO: Loading help data...\n"
     ]
    }
   ],
   "source": [
    "using Convex\n",
    "using ECOS\n",
    "using PyPlot"
   ]
  },
  {
   "cell_type": "markdown",
   "metadata": {},
   "source": [
    "generate data"
   ]
  },
  {
   "cell_type": "code",
   "execution_count": 179,
   "metadata": {
    "collapsed": false
   },
   "outputs": [],
   "source": [
    "srand(1)\n",
    "m = 100;\n",
    "n = 30;\n",
    "A = randn(m, n);\n",
    "b = 0.5*randn(m, 1);"
   ]
  },
  {
   "cell_type": "markdown",
   "metadata": {},
   "source": [
    "$l_1$-norm penalty"
   ]
  },
  {
   "cell_type": "code",
   "execution_count": 180,
   "metadata": {
    "collapsed": false
   },
   "outputs": [
    {
     "name": "stdout",
     "output_type": "stream",
     "text": [
      "\n",
      "ECOS 2.0.2 - (C) embotech GmbH, Zurich Switzerland, 2012-15. Web: www.embotech.com/ECOS\n",
      "\n",
      "It     pcost       dcost      gap   pres   dres    k/t    mu     step   sigma     IR    |   BT\n",
      " 0  +0.000e+00  +1.721e-15  +2e+02  8e-01  1e-02  1e+00  1e+00    ---    ---    1  1  - |  -  - \n",
      " 1  +9.017e+00  +9.024e+00  +4e+01  2e-01  2e-03  2e-01  2e-01  0.8606  3e-02   1  1  0 |  0  0\n",
      " 2  +2.297e+01  +2.298e+01  +9e+00  3e-02  4e-04  4e-02  5e-02  0.8140  5e-02   1  0  0 |  0  0\n",
      " 3  +2.586e+01  +2.586e+01  +2e+00  7e-03  9e-05  1e-02  1e-02  0.7800  6e-02   1  0  1 |  0  0\n",
      " 4  +2.650e+01  +2.650e+01  +8e-01  2e-03  3e-05  4e-03  4e-03  0.7413  1e-01   1  1  1 |  0  0\n",
      " 5  +2.674e+01  +2.674e+01  +2e-01  5e-04  7e-06  9e-04  1e-03  0.8056  5e-02   1  1  1 |  0  0\n",
      " 6  +2.680e+01  +2.680e+01  +4e-02  1e-04  1e-06  2e-04  2e-04  0.9011  1e-01   2  1  1 |  0  0\n",
      " 7  +2.681e+01  +2.681e+01  +4e-03  1e-05  1e-07  2e-05  2e-05  0.9057  8e-03   1  1  1 |  0  0\n",
      " 8  +2.681e+01  +2.681e+01  +2e-04  6e-07  9e-09  1e-06  1e-06  0.9707  3e-02   1  1  1 |  0  0\n",
      " 9  +2.681e+01  +2.681e+01  +3e-06  7e-09  9e-11  1e-08  1e-08  0.9890  1e-04   1  1  1 |  0  0\n",
      "10  +2.681e+01  +2.681e+01  +3e-08  7e-11  1e-12  1e-10  1e-10  0.9890  1e-04   1  1  1 |  0  0\n",
      "\n",
      "OPTIMAL (within feastol=7.3e-11, reltol=1.1e-09, abstol=2.8e-08).\n",
      "Runtime: 0.009280 seconds.\n",
      "\n"
     ]
    }
   ],
   "source": [
    "x1 = Variable(n)\n",
    "p = minimize(norm(A*x1-b, 1))\n",
    "solve!(p, ECOSSolver())"
   ]
  },
  {
   "cell_type": "markdown",
   "metadata": {},
   "source": [
    "$l_2$-norm penalty"
   ]
  },
  {
   "cell_type": "code",
   "execution_count": 181,
   "metadata": {
    "collapsed": false
   },
   "outputs": [
    {
     "name": "stdout",
     "output_type": "stream",
     "text": [
      "\n",
      "ECOS 2.0.2 - (C) embotech GmbH, Zurich Switzerland, 2012-15. Web: www.embotech.com/ECOS\n",
      "\n",
      "It     pcost       dcost      gap   pres   dres    k/t    mu     step   sigma     IR    |   BT\n",
      " 0  +0.000e+00  -0.000e+00  +1e+02  5e-01  1e-05  1e+00  7e+01    ---    ---    1  1  - |  -  - \n",
      " 1  +1.646e-01  +1.714e-01  +5e+00  3e-02  4e-07  4e-02  2e+00  0.9666  1e-04   2  2  2 |  0  0\n",
      " 2  +3.383e+00  +3.524e+00  +4e-01  7e-04  4e-08  1e-01  3e-01  0.9382  6e-02   3  3  3 |  0  0\n",
      " 3  +3.556e+00  +3.557e+00  +5e-03  8e-06  3e-10  2e-03  3e-03  0.9890  1e-04   3  2  2 |  0  0\n",
      " 4  +3.558e+00  +3.558e+00  +5e-05  8e-08  3e-12  2e-05  4e-05  0.9890  1e-04   3  2  2 |  0  0\n",
      " 5  +3.558e+00  +3.558e+00  +6e-07  9e-10  2e-14  2e-07  4e-07  0.9890  1e-04   3  2  2 |  0  0\n",
      " 6  +3.558e+00  +3.558e+00  +7e-09  1e-11  9e-16  2e-09  4e-09  0.9890  1e-04   3  1  2 |  0  0\n",
      "\n",
      "OPTIMAL (within feastol=1.3e-11, reltol=1.8e-09, abstol=6.5e-09).\n",
      "Runtime: 0.003896 seconds.\n",
      "\n"
     ]
    }
   ],
   "source": [
    "x2 = Variable(n)\n",
    "p = minimize(norm(A*x2-b, 2))\n",
    "solve!(p, ECOSSolver())"
   ]
  },
  {
   "cell_type": "markdown",
   "metadata": {},
   "source": [
    "deadzone-linear penalty"
   ]
  },
  {
   "cell_type": "code",
   "execution_count": 201,
   "metadata": {
    "collapsed": false
   },
   "outputs": [
    {
     "name": "stdout",
     "output_type": "stream",
     "text": [
      "\n",
      "ECOS 2.0.2 - (C) embotech GmbH, Zurich Switzerland, 2012-15. Web: www.embotech.com/ECOS\n",
      "\n",
      "It     pcost       dcost      gap   pres   dres    k/t    mu     step   sigma     IR    |   BT\n",
      " 0  -1.668e+01  -1.741e+01  +2e+02  6e-01  2e-02  1e+00  6e-01    ---    ---    1  2  - |  -  - \n",
      " 1  -1.143e+01  -1.159e+01  +5e+01  2e-01  3e-03  2e-01  1e-01  0.8280  2e-02   1  1  0 |  0  0\n",
      " 2  -3.723e+00  -3.781e+00  +2e+01  1e-01  1e-03  5e-02  4e-02  0.7507  2e-01   1  1  1 |  0  0\n",
      " 3  -7.584e-01  -7.781e-01  +6e+00  4e-02  3e-04  1e-02  1e-02  0.7442  1e-01   1  0  0 |  0  0\n",
      " 4  +9.423e-02  +8.401e-02  +3e+00  2e-02  1e-04  6e-03  7e-03  0.7839  3e-01   1  0  0 |  0  0\n",
      " 5  +6.899e-01  +6.871e-01  +7e-01  5e-03  4e-05  2e-03  2e-03  0.7502  4e-02   1  0  0 |  0  0\n",
      " 6  +8.788e-01  +8.781e-01  +2e-01  1e-03  9e-06  4e-04  5e-04  0.8398  1e-01   1  0  0 |  0  0\n",
      " 7  +9.217e-01  +9.215e-01  +6e-02  4e-04  3e-06  1e-04  2e-04  0.7956  2e-01   1  0  0 |  0  0\n",
      " 8  +9.362e-01  +9.361e-01  +2e-02  1e-04  1e-06  4e-05  5e-05  0.7750  2e-01   1  0  0 |  0  0\n",
      " 9  +9.435e-01  +9.435e-01  +3e-03  2e-05  1e-07  5e-06  7e-06  0.8866  2e-02   1  0  0 |  0  0\n",
      "10  +9.446e-01  +9.446e-01  +7e-05  5e-07  3e-09  1e-07  2e-07  0.9838  9e-03   1  0  0 |  0  0\n",
      "11  +9.447e-01  +9.447e-01  +8e-07  5e-09  4e-11  1e-09  2e-09  0.9890  1e-04   1  0  0 |  0  0\n",
      "12  +9.447e-01  +9.447e-01  +9e-09  6e-11  4e-13  2e-11  2e-11  0.9890  1e-04   1  0  0 |  0  0\n",
      "\n",
      "OPTIMAL (within feastol=5.9e-11, reltol=9.2e-09, abstol=8.7e-09).\n",
      "Runtime: 0.006778 seconds.\n",
      "\n"
     ]
    }
   ],
   "source": [
    "x3 = Variable(n)\n",
    "a1 = 0.5\n",
    "p = minimize(sum(pos(max(A*x3-b-a1, -A*x3+b-a1))))\n",
    "solve!(p, ECOSSolver())"
   ]
  },
  {
   "cell_type": "markdown",
   "metadata": {},
   "source": [
    "log barrier penalty"
   ]
  },
  {
   "cell_type": "code",
   "execution_count": 202,
   "metadata": {
    "collapsed": false
   },
   "outputs": [
    {
     "name": "stdout",
     "output_type": "stream",
     "text": [
      "\n",
      "ECOS 2.0.2 - (C) embotech GmbH, Zurich Switzerland, 2012-15. Web: www.embotech.com/ECOS\n",
      "\n",
      "It     pcost       dcost      gap   pres   dres    k/t    mu     step   sigma     IR    |   BT\n",
      " 0  +0.000e+00  -4.916e+02  +7e+02  3e-01  5e-01  1e+00  1e+00    ---    ---    0  0  - |  -  - \n",
      " 1  +2.083e+01  -1.654e+02  +2e+02  1e-01  3e-01  4e-01  3e-01  0.7356  6e-02   2  1  1 |  0  0\n",
      " 2  +1.706e+01  -7.619e+01  +1e+02  5e-02  1e-01  2e-01  2e-01  0.6916  3e-01   2  2  2 |  0  0\n",
      " 3  +1.280e+01  -2.417e+01  +5e+01  2e-02  4e-02  8e-02  6e-02  0.6244  3e-02   2  2  2 |  0  2\n",
      " 4  +1.116e+01  -1.251e+01  +3e+01  2e-02  2e-02  6e-02  4e-02  0.9791  6e-01   2  2  2 |  7  0\n",
      " 5  +1.305e+01  +1.115e+00  +1e+01  8e-03  1e-02  3e-02  2e-02  0.6266  2e-01   2  2  2 |  3  2\n",
      " 6  +1.398e+01  +8.214e+00  +6e+00  4e-03  5e-03  2e-02  9e-03  0.9791  5e-01   2  2  2 |  6  0\n",
      " 7  +1.490e+01  +1.332e+01  +2e+00  1e-03  1e-03  4e-03  2e-03  0.7833  7e-02   2  2  2 |  2  1\n",
      " 8  +1.505e+01  +1.423e+01  +8e-01  5e-04  8e-04  2e-03  1e-03  0.9791  5e-01   3  2  2 |  7  0\n",
      " 9  +1.521e+01  +1.502e+01  +2e-01  1e-04  2e-04  5e-04  3e-04  0.7833  1e-02   3  1  1 |  1  1\n",
      "10  +1.524e+01  +1.516e+01  +8e-02  5e-05  7e-05  2e-04  1e-04  0.6266  5e-02   2  1  1 |  2  2\n",
      "11  +1.525e+01  +1.523e+01  +2e-02  1e-05  2e-05  5e-05  2e-05  0.7833  9e-03   2  1  1 |  1  1\n",
      "12  +1.525e+01  +1.525e+01  +7e-03  4e-06  6e-06  2e-05  1e-05  0.6266  5e-02   2  1  1 |  2  2\n",
      "13  +1.525e+01  +1.525e+01  +2e-03  1e-06  1e-06  4e-06  2e-06  0.7833  9e-03   1  1  1 |  1  1\n",
      "14  +1.525e+01  +1.525e+01  +6e-04  4e-07  6e-07  2e-06  9e-07  0.6266  5e-02   1  1  1 |  2  2\n",
      "15  +1.525e+01  +1.525e+01  +1e-04  9e-08  1e-07  4e-07  2e-07  0.7833  9e-03   2  1  1 |  1  1\n",
      "16  +1.525e+01  +1.525e+01  +6e-05  4e-08  5e-08  2e-07  8e-08  0.6266  5e-02   1  1  1 |  2  2\n",
      "17  +1.525e+01  +1.525e+01  +1e-05  8e-09  1e-08  3e-08  2e-08  0.7833  9e-03   1  1  1 |  1  1\n",
      "18  +1.525e+01  +1.525e+01  +5e-06  3e-09  5e-09  1e-08  7e-09  0.6266  5e-02   1  1  1 |  2  2\n",
      "19  +1.525e+01  +1.525e+01  +1e-06  7e-10  1e-09  3e-09  2e-09  0.7833  9e-03   1  1  1 |  1  1\n",
      "20  +1.525e+01  +1.525e+01  +5e-07  3e-10  4e-10  1e-09  7e-10  0.6266  5e-02   1  1  1 |  2  2\n",
      "21  +1.525e+01  +1.525e+01  +1e-07  7e-11  9e-11  3e-10  1e-10  0.7833  9e-03   1  1  1 |  1  1\n",
      "\n",
      "OPTIMAL (within feastol=9.3e-11, reltol=6.8e-09, abstol=1.0e-07).\n",
      "Runtime: 0.030306 seconds.\n",
      "\n"
     ]
    }
   ],
   "source": [
    "x4 = Variable(n)\n",
    "a2 = 1\n",
    "p = minimize(-a^2*sum(log(1-((A*x4-b)/a2)^2)), [A*x4-b<a2, A*x4-b>-a2])\n",
    "solve!(p, ECOSSolver())"
   ]
  },
  {
   "cell_type": "markdown",
   "metadata": {},
   "source": [
    "plot"
   ]
  },
  {
   "cell_type": "code",
   "execution_count": 210,
   "metadata": {
    "collapsed": false
   },
   "outputs": [
    {
     "data": {
      "image/png": "[encoded data removed]",
      "text/plain": [
       "Figure(PyObject <matplotlib.figure.Figure object at 0x117e0e510>)"
      ]
     },
     "metadata": {},
     "output_type": "display_data"
    }
   ],
   "source": [
    "r_x = linspace(-2, 2, 100);\n",
    "r1 = A*x1.value-b\n",
    "r2 = A*x2.value-b\n",
    "r3 = A*x3.value-b\n",
    "r4 = A*x4.value-b\n",
    "subplot(411)\n",
    "plt[:hist](r1, bins = 40, facecolor = \"w\");\n",
    "axis([-2, 2, 0, 40]);\n",
    "plot(r_x, 15*abs(r_x), \"k\");\n",
    "ylabel(\"p = 1\");\n",
    "subplot(412)\n",
    "plt[:hist](r2, bins = 40, facecolor = \"w\");\n",
    "axis([-2, 2, 0, 10]);\n",
    "plot(r_x, 2*r_x.^2, \"k\");\n",
    "ylabel(\"p = 2\");\n",
    "subplot(413)\n",
    "plt[:hist](r3, bins = 40, facecolor = \"w\");\n",
    "axis([-2, 2, 0, 25]);\n",
    "deadzone(x, a) = max(abs(x)-a, 0);\n",
    "plot(r_x, 10*deadzone(r_x, a1), \"k\");\n",
    "ylabel(\"Deadzone\");\n",
    "subplot(414)\n",
    "plt[:hist](r4, bins = 40, facecolor = \"w\");\n",
    "axis([-2, 2, 0, 10]);\n",
    "log_barrier(x, a) = -a^2*log(max(1-(x/a).^2, 0));\n",
    "plot(r_x, 5*log_barrier(r_x, a2), \"k\")\n",
    "plot(r_x, 2*r_x.^2, \"k--\");\n",
    "xlabel(\"r\");\n",
    "ylabel(\"Log barrier\");"
   ]
  },
  {
   "cell_type": "code",
   "execution_count": null,
   "metadata": {
    "collapsed": true
   },
   "outputs": [],
   "source": []
  }
 ],
 "metadata": {
  "kernelspec": {
   "display_name": "Julia 0.3.11",
   "language": "julia",
   "name": "julia-0.3"
  },
  "language_info": {
   "file_extension": ".jl",
   "mimetype": "application/julia",
   "name": "julia",
   "version": "0.3.11"
  }
 },
 "nbformat": 4,
 "nbformat_minor": 0
}
